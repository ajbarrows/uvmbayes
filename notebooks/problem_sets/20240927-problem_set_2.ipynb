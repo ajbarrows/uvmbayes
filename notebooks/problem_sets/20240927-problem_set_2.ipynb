{
 "cells": [
  {
   "cell_type": "code",
   "execution_count": 16,
   "metadata": {},
   "outputs": [],
   "source": [
    "import os\n",
    "\n",
    "import pandas as pd\n",
    "import numpy as np\n",
    "import scipy as sp\n",
    "\n",
    "import matplotlib.pyplot as plt\n",
    "import seaborn as sns\n",
    "\n",
    "np.random.seed(42)"
   ]
  },
  {
   "cell_type": "code",
   "execution_count": null,
   "metadata": {},
   "outputs": [],
   "source": []
  },
  {
   "cell_type": "markdown",
   "metadata": {},
   "source": [
    "# Question 3"
   ]
  },
  {
   "cell_type": "code",
   "execution_count": 5,
   "metadata": {},
   "outputs": [
    {
     "data": {
      "text/html": [
       "<div>\n",
       "<style scoped>\n",
       "    .dataframe tbody tr th:only-of-type {\n",
       "        vertical-align: middle;\n",
       "    }\n",
       "\n",
       "    .dataframe tbody tr th {\n",
       "        vertical-align: top;\n",
       "    }\n",
       "\n",
       "    .dataframe thead th {\n",
       "        text-align: right;\n",
       "    }\n",
       "</style>\n",
       "<table border=\"1\" class=\"dataframe\">\n",
       "  <thead>\n",
       "    <tr style=\"text-align: right;\">\n",
       "      <th></th>\n",
       "      <th>species</th>\n",
       "      <th>island</th>\n",
       "      <th>culmen_length_mm</th>\n",
       "      <th>culmen_depth_mm</th>\n",
       "      <th>flipper_length_mm</th>\n",
       "      <th>body_mass_g</th>\n",
       "      <th>sex</th>\n",
       "    </tr>\n",
       "  </thead>\n",
       "  <tbody>\n",
       "    <tr>\n",
       "      <th>0</th>\n",
       "      <td>Adelie</td>\n",
       "      <td>Torgersen</td>\n",
       "      <td>39.1</td>\n",
       "      <td>18.7</td>\n",
       "      <td>181</td>\n",
       "      <td>3750</td>\n",
       "      <td>MALE</td>\n",
       "    </tr>\n",
       "    <tr>\n",
       "      <th>1</th>\n",
       "      <td>Adelie</td>\n",
       "      <td>Torgersen</td>\n",
       "      <td>39.5</td>\n",
       "      <td>17.4</td>\n",
       "      <td>186</td>\n",
       "      <td>3800</td>\n",
       "      <td>FEMALE</td>\n",
       "    </tr>\n",
       "    <tr>\n",
       "      <th>2</th>\n",
       "      <td>Adelie</td>\n",
       "      <td>Torgersen</td>\n",
       "      <td>40.3</td>\n",
       "      <td>18.0</td>\n",
       "      <td>195</td>\n",
       "      <td>3250</td>\n",
       "      <td>FEMALE</td>\n",
       "    </tr>\n",
       "    <tr>\n",
       "      <th>3</th>\n",
       "      <td>Adelie</td>\n",
       "      <td>Torgersen</td>\n",
       "      <td>36.7</td>\n",
       "      <td>19.3</td>\n",
       "      <td>193</td>\n",
       "      <td>3450</td>\n",
       "      <td>FEMALE</td>\n",
       "    </tr>\n",
       "    <tr>\n",
       "      <th>4</th>\n",
       "      <td>Adelie</td>\n",
       "      <td>Torgersen</td>\n",
       "      <td>39.3</td>\n",
       "      <td>20.6</td>\n",
       "      <td>190</td>\n",
       "      <td>3650</td>\n",
       "      <td>MALE</td>\n",
       "    </tr>\n",
       "    <tr>\n",
       "      <th>...</th>\n",
       "      <td>...</td>\n",
       "      <td>...</td>\n",
       "      <td>...</td>\n",
       "      <td>...</td>\n",
       "      <td>...</td>\n",
       "      <td>...</td>\n",
       "      <td>...</td>\n",
       "    </tr>\n",
       "    <tr>\n",
       "      <th>337</th>\n",
       "      <td>Gentoo</td>\n",
       "      <td>Biscoe</td>\n",
       "      <td>47.2</td>\n",
       "      <td>13.7</td>\n",
       "      <td>214</td>\n",
       "      <td>4925</td>\n",
       "      <td>FEMALE</td>\n",
       "    </tr>\n",
       "    <tr>\n",
       "      <th>338</th>\n",
       "      <td>Gentoo</td>\n",
       "      <td>Biscoe</td>\n",
       "      <td>46.8</td>\n",
       "      <td>14.3</td>\n",
       "      <td>215</td>\n",
       "      <td>4850</td>\n",
       "      <td>FEMALE</td>\n",
       "    </tr>\n",
       "    <tr>\n",
       "      <th>339</th>\n",
       "      <td>Gentoo</td>\n",
       "      <td>Biscoe</td>\n",
       "      <td>50.4</td>\n",
       "      <td>15.7</td>\n",
       "      <td>222</td>\n",
       "      <td>5750</td>\n",
       "      <td>MALE</td>\n",
       "    </tr>\n",
       "    <tr>\n",
       "      <th>340</th>\n",
       "      <td>Gentoo</td>\n",
       "      <td>Biscoe</td>\n",
       "      <td>45.2</td>\n",
       "      <td>14.8</td>\n",
       "      <td>212</td>\n",
       "      <td>5200</td>\n",
       "      <td>FEMALE</td>\n",
       "    </tr>\n",
       "    <tr>\n",
       "      <th>341</th>\n",
       "      <td>Gentoo</td>\n",
       "      <td>Biscoe</td>\n",
       "      <td>49.9</td>\n",
       "      <td>16.1</td>\n",
       "      <td>213</td>\n",
       "      <td>5400</td>\n",
       "      <td>MALE</td>\n",
       "    </tr>\n",
       "  </tbody>\n",
       "</table>\n",
       "<p>342 rows × 7 columns</p>\n",
       "</div>"
      ],
      "text/plain": [
       "    species     island  culmen_length_mm  culmen_depth_mm  flipper_length_mm  \\\n",
       "0    Adelie  Torgersen              39.1             18.7                181   \n",
       "1    Adelie  Torgersen              39.5             17.4                186   \n",
       "2    Adelie  Torgersen              40.3             18.0                195   \n",
       "3    Adelie  Torgersen              36.7             19.3                193   \n",
       "4    Adelie  Torgersen              39.3             20.6                190   \n",
       "..      ...        ...               ...              ...                ...   \n",
       "337  Gentoo     Biscoe              47.2             13.7                214   \n",
       "338  Gentoo     Biscoe              46.8             14.3                215   \n",
       "339  Gentoo     Biscoe              50.4             15.7                222   \n",
       "340  Gentoo     Biscoe              45.2             14.8                212   \n",
       "341  Gentoo     Biscoe              49.9             16.1                213   \n",
       "\n",
       "     body_mass_g     sex  \n",
       "0           3750    MALE  \n",
       "1           3800  FEMALE  \n",
       "2           3250  FEMALE  \n",
       "3           3450  FEMALE  \n",
       "4           3650    MALE  \n",
       "..           ...     ...  \n",
       "337         4925  FEMALE  \n",
       "338         4850  FEMALE  \n",
       "339         5750    MALE  \n",
       "340         5200  FEMALE  \n",
       "341         5400    MALE  \n",
       "\n",
       "[342 rows x 7 columns]"
      ]
     },
     "execution_count": 5,
     "metadata": {},
     "output_type": "execute_result"
    }
   ],
   "source": [
    "def load_data(fpath: str | os.PathLike = \"../../data/01_raw/penguins.csv\"\n",
    "              ) -> pd.DataFrame:\n",
    "    return pd.read_csv(fpath)\n",
    "\n",
    "df = load_data()\n",
    "df"
   ]
  },
  {
   "cell_type": "code",
   "execution_count": 28,
   "metadata": {},
   "outputs": [],
   "source": [
    "our_penguin = \"Gentoo\"\n",
    "gentoo = df[df['species'] == our_penguin]"
   ]
  },
  {
   "cell_type": "markdown",
   "metadata": {},
   "source": [
    "## 3.2"
   ]
  },
  {
   "cell_type": "code",
   "execution_count": 31,
   "metadata": {},
   "outputs": [],
   "source": [
    "class PenguinModel():\n",
    "\n",
    "    def __init__(self):\n",
    "        self.alpha_prior = None\n",
    "        self.beta_prior = None\n",
    "        self.sigma_prior = None\n",
    "        self.likelihood = None\n",
    "\n",
    "    def build_priors(self):\n",
    "        self.assign_alpha_prior()\n",
    "        self.assign_beta_prior()\n",
    "        self.assign_sigma_prior()\n",
    "\n",
    "    # define model attributes\n",
    "    def assign_alpha_prior(self, loc: float=3.0, scale: float=2.0):\n",
    "        mod = sp.stats.norm(loc=loc, scale=scale)\n",
    "        self.alpha_prior = mod\n",
    "\n",
    "    def assign_beta_prior(self, loc: float=0.1, scale: float=0.2):\n",
    "        mod = sp.stats.norm(loc=loc, scale=scale)\n",
    "        self.beta_prior = mod\n",
    "\n",
    "    def assign_sigma_prior(self, s: float=400, scale: float=0):\n",
    "        mod = sp.stats.lognorm(s=s, scale=np.exp(scale))\n",
    "        self.sigma_prior = mod\n",
    "\n",
    "    def assign_likelihood(self, loc, scale):\n",
    "        mod = sp.stats.norm(loc=loc, scale=scale)\n",
    "        self.likelihood = mod\n",
    "\n",
    "    # define methods\n",
    "    def simulate_prior_predictive(self, X, n_posterior_samples):\n",
    "        n_prior_samples = len(X)\n",
    "\n",
    "        alpha = self.alpha_prior.rvs(size=n_prior_samples)\n",
    "        beta = self.beta_prior.rvs(size=n_prior_samples)\n",
    "        sigma = self.sigma_prior.rvs(size=n_prior_samples)\n",
    "        mu = alpha + beta * X\n",
    "\n",
    "        self.assign_likelihood(loc=mu, scale=sigma)\n",
    "        y_tilde = self.likelihood.rvs(size=n_posterior_samples)\n",
    "        \n",
    "        return y_tilde"
   ]
  },
  {
   "cell_type": "code",
   "execution_count": 35,
   "metadata": {},
   "outputs": [],
   "source": [
    "n_posterior_samples = len(gentoo['flipper_length_mm'])"
   ]
  },
  {
   "cell_type": "code",
   "execution_count": 37,
   "metadata": {},
   "outputs": [
    {
     "name": "stderr",
     "output_type": "stream",
     "text": [
      "/Users/tony/miniforge3/envs/uvmbayes/lib/python3.12/site-packages/scipy/stats/_continuous_distns.py:6550: RuntimeWarning: overflow encountered in exp\n",
      "  return np.exp(s * random_state.standard_normal(size))\n"
     ]
    }
   ],
   "source": [
    "model = PenguinModel()\n",
    "model.build_priors()\n",
    "prior_predict = model.simulate_prior_predictive(gentoo['flipper_length_mm'], n_posterior_samples)"
   ]
  },
  {
   "cell_type": "code",
   "execution_count": 46,
   "metadata": {},
   "outputs": [
    {
     "data": {
      "text/plain": [
       "(array([116.,   0.,   0.,   0.,   0.,   0.,   0.,   0.,   0.,   0.,   0.,\n",
       "          0.,   0.,   0.,   0.,   0.,   0.,   0.,   0.,   0.,   0.,   0.,\n",
       "          0.,   0.,   1.]),\n",
       " array([-9.62921848e+299,  3.86041175e+306,  7.72082446e+306,\n",
       "         1.15812372e+307,  1.54416499e+307,  1.93020626e+307,\n",
       "         2.31624753e+307,  2.70228880e+307,  3.08833007e+307,\n",
       "         3.47437134e+307,  3.86041261e+307,  4.24645388e+307,\n",
       "         4.63249516e+307,  5.01853643e+307,  5.40457770e+307,\n",
       "         5.79061897e+307,  6.17666024e+307,  6.56270151e+307,\n",
       "         6.94874278e+307,  7.33478405e+307,  7.72082532e+307,\n",
       "         8.10686660e+307,  8.49290787e+307,  8.87894914e+307,\n",
       "         9.26499041e+307,  9.65103168e+307]),\n",
       " <BarContainer object of 25 artists>)"
      ]
     },
     "execution_count": 46,
     "metadata": {},
     "output_type": "execute_result"
    },
    {
     "data": {
      "image/png": "[encoded data removed]",
      "text/plain": [
       "<Figure size 640x480 with 1 Axes>"
      ]
     },
     "metadata": {},
     "output_type": "display_data"
    }
   ],
   "source": [
    "plt.hist(prior_predict[~np.isinf(prior_predict)], bins=25)"
   ]
  }
 ],
 "metadata": {
  "kernelspec": {
   "display_name": "uvmbayes",
   "language": "python",
   "name": "python3"
  },
  "language_info": {
   "codemirror_mode": {
    "name": "ipython",
    "version": 3
   },
   "file_extension": ".py",
   "mimetype": "text/x-python",
   "name": "python",
   "nbconvert_exporter": "python",
   "pygments_lexer": "ipython3",
   "version": "3.12.4"
  }
 },
 "nbformat": 4,
 "nbformat_minor": 2
}
