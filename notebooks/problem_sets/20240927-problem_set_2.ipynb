{
 "cells": [
  {
   "cell_type": "code",
   "execution_count": 67,
   "metadata": {},
   "outputs": [],
   "source": [
    "import os\n",
    "import pprint\n",
    "\n",
    "import pandas as pd\n",
    "import numpy as np\n",
    "import scipy as sp\n",
    "\n",
    "import matplotlib.pyplot as plt\n",
    "import seaborn as sns\n",
    "\n",
    "np.random.seed(42)\n",
    "\n",
    "out_dir = \"../../data/05_reporting/problem_set_2\""
   ]
  },
  {
   "cell_type": "code",
   "execution_count": 64,
   "metadata": {},
   "outputs": [],
   "source": [
    "# helper functions\n",
    "\n",
    "def load_data(fpath: str | os.PathLike = \"../../data/01_raw/penguins.csv\"\n",
    "              ) -> pd.DataFrame:\n",
    "    return pd.read_csv(fpath)\n",
    "\n",
    "def plot_priors(model, n_prior_vals=100) -> None:\n",
    "    plt_dict = {\n",
    "        r'$\\alpha$ prior': model.alpha_prior,\n",
    "        r'$\\beta$ prior': model.beta_prior,\n",
    "        r'$\\sigma$ prior': model.sigma_prior\n",
    "    }\n",
    "\n",
    "    fig, axs = plt.subplots(ncols=len(plt_dict), figsize=(15, 5))\n",
    "    \n",
    "    for (k, v), ax in zip(plt_dict.items(), axs):\n",
    "        dist = v.rvs(n_prior_vals)\n",
    "        labs = v.kwds\n",
    "        ax.hist(dist, label=labs)\n",
    "        ax.set_title(k)\n",
    "        ax.legend()    \n",
    "\n"
   ]
  },
  {
   "cell_type": "markdown",
   "metadata": {},
   "source": [
    "# Question 3"
   ]
  },
  {
   "cell_type": "markdown",
   "metadata": {},
   "source": [
    "## 3.1"
   ]
  },
  {
   "cell_type": "code",
   "execution_count": 4,
   "metadata": {},
   "outputs": [
    {
     "data": {
      "text/html": [
       "<div>\n",
       "<style scoped>\n",
       "    .dataframe tbody tr th:only-of-type {\n",
       "        vertical-align: middle;\n",
       "    }\n",
       "\n",
       "    .dataframe tbody tr th {\n",
       "        vertical-align: top;\n",
       "    }\n",
       "\n",
       "    .dataframe thead th {\n",
       "        text-align: right;\n",
       "    }\n",
       "</style>\n",
       "<table border=\"1\" class=\"dataframe\">\n",
       "  <thead>\n",
       "    <tr style=\"text-align: right;\">\n",
       "      <th></th>\n",
       "      <th>species</th>\n",
       "      <th>island</th>\n",
       "      <th>culmen_length_mm</th>\n",
       "      <th>culmen_depth_mm</th>\n",
       "      <th>flipper_length_mm</th>\n",
       "      <th>body_mass_g</th>\n",
       "      <th>sex</th>\n",
       "    </tr>\n",
       "  </thead>\n",
       "  <tbody>\n",
       "    <tr>\n",
       "      <th>0</th>\n",
       "      <td>Adelie</td>\n",
       "      <td>Torgersen</td>\n",
       "      <td>39.1</td>\n",
       "      <td>18.7</td>\n",
       "      <td>181</td>\n",
       "      <td>3750</td>\n",
       "      <td>MALE</td>\n",
       "    </tr>\n",
       "    <tr>\n",
       "      <th>1</th>\n",
       "      <td>Adelie</td>\n",
       "      <td>Torgersen</td>\n",
       "      <td>39.5</td>\n",
       "      <td>17.4</td>\n",
       "      <td>186</td>\n",
       "      <td>3800</td>\n",
       "      <td>FEMALE</td>\n",
       "    </tr>\n",
       "    <tr>\n",
       "      <th>2</th>\n",
       "      <td>Adelie</td>\n",
       "      <td>Torgersen</td>\n",
       "      <td>40.3</td>\n",
       "      <td>18.0</td>\n",
       "      <td>195</td>\n",
       "      <td>3250</td>\n",
       "      <td>FEMALE</td>\n",
       "    </tr>\n",
       "    <tr>\n",
       "      <th>3</th>\n",
       "      <td>Adelie</td>\n",
       "      <td>Torgersen</td>\n",
       "      <td>36.7</td>\n",
       "      <td>19.3</td>\n",
       "      <td>193</td>\n",
       "      <td>3450</td>\n",
       "      <td>FEMALE</td>\n",
       "    </tr>\n",
       "    <tr>\n",
       "      <th>4</th>\n",
       "      <td>Adelie</td>\n",
       "      <td>Torgersen</td>\n",
       "      <td>39.3</td>\n",
       "      <td>20.6</td>\n",
       "      <td>190</td>\n",
       "      <td>3650</td>\n",
       "      <td>MALE</td>\n",
       "    </tr>\n",
       "    <tr>\n",
       "      <th>...</th>\n",
       "      <td>...</td>\n",
       "      <td>...</td>\n",
       "      <td>...</td>\n",
       "      <td>...</td>\n",
       "      <td>...</td>\n",
       "      <td>...</td>\n",
       "      <td>...</td>\n",
       "    </tr>\n",
       "    <tr>\n",
       "      <th>337</th>\n",
       "      <td>Gentoo</td>\n",
       "      <td>Biscoe</td>\n",
       "      <td>47.2</td>\n",
       "      <td>13.7</td>\n",
       "      <td>214</td>\n",
       "      <td>4925</td>\n",
       "      <td>FEMALE</td>\n",
       "    </tr>\n",
       "    <tr>\n",
       "      <th>338</th>\n",
       "      <td>Gentoo</td>\n",
       "      <td>Biscoe</td>\n",
       "      <td>46.8</td>\n",
       "      <td>14.3</td>\n",
       "      <td>215</td>\n",
       "      <td>4850</td>\n",
       "      <td>FEMALE</td>\n",
       "    </tr>\n",
       "    <tr>\n",
       "      <th>339</th>\n",
       "      <td>Gentoo</td>\n",
       "      <td>Biscoe</td>\n",
       "      <td>50.4</td>\n",
       "      <td>15.7</td>\n",
       "      <td>222</td>\n",
       "      <td>5750</td>\n",
       "      <td>MALE</td>\n",
       "    </tr>\n",
       "    <tr>\n",
       "      <th>340</th>\n",
       "      <td>Gentoo</td>\n",
       "      <td>Biscoe</td>\n",
       "      <td>45.2</td>\n",
       "      <td>14.8</td>\n",
       "      <td>212</td>\n",
       "      <td>5200</td>\n",
       "      <td>FEMALE</td>\n",
       "    </tr>\n",
       "    <tr>\n",
       "      <th>341</th>\n",
       "      <td>Gentoo</td>\n",
       "      <td>Biscoe</td>\n",
       "      <td>49.9</td>\n",
       "      <td>16.1</td>\n",
       "      <td>213</td>\n",
       "      <td>5400</td>\n",
       "      <td>MALE</td>\n",
       "    </tr>\n",
       "  </tbody>\n",
       "</table>\n",
       "<p>342 rows × 7 columns</p>\n",
       "</div>"
      ],
      "text/plain": [
       "    species     island  culmen_length_mm  culmen_depth_mm  flipper_length_mm  \\\n",
       "0    Adelie  Torgersen              39.1             18.7                181   \n",
       "1    Adelie  Torgersen              39.5             17.4                186   \n",
       "2    Adelie  Torgersen              40.3             18.0                195   \n",
       "3    Adelie  Torgersen              36.7             19.3                193   \n",
       "4    Adelie  Torgersen              39.3             20.6                190   \n",
       "..      ...        ...               ...              ...                ...   \n",
       "337  Gentoo     Biscoe              47.2             13.7                214   \n",
       "338  Gentoo     Biscoe              46.8             14.3                215   \n",
       "339  Gentoo     Biscoe              50.4             15.7                222   \n",
       "340  Gentoo     Biscoe              45.2             14.8                212   \n",
       "341  Gentoo     Biscoe              49.9             16.1                213   \n",
       "\n",
       "     body_mass_g     sex  \n",
       "0           3750    MALE  \n",
       "1           3800  FEMALE  \n",
       "2           3250  FEMALE  \n",
       "3           3450  FEMALE  \n",
       "4           3650    MALE  \n",
       "..           ...     ...  \n",
       "337         4925  FEMALE  \n",
       "338         4850  FEMALE  \n",
       "339         5750    MALE  \n",
       "340         5200  FEMALE  \n",
       "341         5400    MALE  \n",
       "\n",
       "[342 rows x 7 columns]"
      ]
     },
     "execution_count": 4,
     "metadata": {},
     "output_type": "execute_result"
    }
   ],
   "source": [
    "df = load_data()\n",
    "df"
   ]
  },
  {
   "cell_type": "code",
   "execution_count": 5,
   "metadata": {},
   "outputs": [],
   "source": [
    "our_penguin = \"Gentoo\"\n",
    "gentoo = df[df['species'] == our_penguin]"
   ]
  },
  {
   "cell_type": "markdown",
   "metadata": {},
   "source": [
    "## 3.2"
   ]
  },
  {
   "cell_type": "code",
   "execution_count": 30,
   "metadata": {},
   "outputs": [],
   "source": [
    "class PenguinModel():\n",
    "\n",
    "    def __init__(self):\n",
    "        self.alpha_prior = self.assign_alpha_prior()\n",
    "        self.beta_prior = self.assign_beta_prior()\n",
    "        self.sigma_prior = self.assign_sigma_prior()\n",
    "        self.likelihood = None\n",
    "\n",
    "    # define model attributes\n",
    "    def assign_alpha_prior(self, loc: float=3.0, scale: float=2.0):\n",
    "        return sp.stats.norm(loc=loc, scale=scale)\n",
    "\n",
    "    def assign_beta_prior(self, loc: float=0.1, scale: float=0.2):\n",
    "        return sp.stats.norm(loc=loc, scale=scale)\n",
    "\n",
    "    def assign_sigma_prior(self, s: float=1, scale: float=0):\n",
    "        return sp.stats.lognorm(s=s, scale=np.exp(scale))\n",
    "\n",
    "\n",
    "    def assign_likelihood(self, loc, scale):\n",
    "        mod = sp.stats.norm(loc=loc, scale=scale)\n",
    "        self.likelihood = mod\n",
    "\n",
    "    # define methods\n",
    "    def bootstrap(self, X, stat=np.mean, \n",
    "            random_state=np.random.default_rng()\n",
    "    ) -> np.array:\n",
    "        res = sp.stats.bootstrap(X, stat, random_state=random_state)\n",
    "        return res.bootstrap_distribution\n",
    "    \n",
    "    def simulate_prior_predictive(self, X):\n",
    "        X_hat = self.bootstrap((X, ))\n",
    "\n",
    "        n_prior_samples = len(X_hat)\n",
    "\n",
    "        alpha = self.alpha_prior.rvs(size=n_prior_samples)\n",
    "        beta = self.beta_prior.rvs(size=n_prior_samples)\n",
    "        sigma = self.sigma_prior.rvs(size=n_prior_samples)\n",
    "        mu = alpha + beta * X_hat\n",
    "\n",
    "        self.assign_likelihood(loc=mu, scale=sigma)\n",
    "        y_tilde = self.likelihood.rvs(size=n_prior_samples)\n",
    "        \n",
    "        return y_tilde"
   ]
  },
  {
   "cell_type": "code",
   "execution_count": 68,
   "metadata": {},
   "outputs": [
    {
     "data": {
      "image/png": "[encoded data removed]",
      "text/plain": [
       "<Figure size 1500x500 with 3 Axes>"
      ]
     },
     "metadata": {},
     "output_type": "display_data"
    }
   ],
   "source": [
    "n_prior_vals = 100\n",
    "model = PenguinModel()\n",
    "plot_priors(model, n_prior_vals)\n",
    "plt.savefig(os.path.join(out_dir, 'prior_distributions.pdf'), bbox_inches='tight')"
   ]
  },
  {
   "cell_type": "code",
   "execution_count": 62,
   "metadata": {},
   "outputs": [
    {
     "data": {
      "text/plain": [
       "\"{'loc': 3.0, 'scale': 2.0}\""
      ]
     },
     "execution_count": 62,
     "metadata": {},
     "output_type": "execute_result"
    }
   ],
   "source": [
    "pprint.pformat({'loc': 3.0, 'scale': 2.0})"
   ]
  },
  {
   "cell_type": "code",
   "execution_count": 39,
   "metadata": {},
   "outputs": [
    {
     "data": {
      "text/plain": [
       "scipy.stats._distn_infrastructure.rv_continuous_frozen"
      ]
     },
     "execution_count": 39,
     "metadata": {},
     "output_type": "execute_result"
    }
   ],
   "source": []
  },
  {
   "cell_type": "code",
   "execution_count": 55,
   "metadata": {},
   "outputs": [
    {
     "data": {
      "text/plain": [
       "{'loc': 3.0, 'scale': 2.0}"
      ]
     },
     "execution_count": 55,
     "metadata": {},
     "output_type": "execute_result"
    }
   ],
   "source": [
    "\n",
    "model.alpha_prior.kwds"
   ]
  },
  {
   "cell_type": "code",
   "execution_count": 32,
   "metadata": {},
   "outputs": [
    {
     "data": {
      "text/plain": [
       "(array([  10.,   56.,  417., 1315., 2673., 2952., 1848.,  600.,  119.,\n",
       "           9.]),\n",
       " array([-149.61962806, -115.86005227,  -82.10047647,  -48.34090067,\n",
       "         -14.58132488,   19.17825092,   52.93782671,   86.69740251,\n",
       "         120.45697831,  154.2165541 ,  187.9761299 ]),\n",
       " <BarContainer object of 10 artists>)"
      ]
     },
     "execution_count": 32,
     "metadata": {},
     "output_type": "execute_result"
    },
    {
     "data": {
      "image/png": "[encoded data removed]",
      "text/plain": [
       "<Figure size 640x480 with 1 Axes>"
      ]
     },
     "metadata": {},
     "output_type": "display_data"
    }
   ],
   "source": [
    "prior_predict = model.simulate_prior_predictive(gentoo['flipper_length_mm'])\n",
    "plt.hist(prior_predict)"
   ]
  },
  {
   "cell_type": "code",
   "execution_count": 25,
   "metadata": {},
   "outputs": [
    {
     "data": {
      "text/plain": [
       "(array([3.000e+00, 2.500e+01, 2.130e+02, 1.058e+03, 2.444e+03, 3.165e+03,\n",
       "        2.128e+03, 7.910e+02, 1.530e+02, 1.900e+01]),\n",
       " array([-167.18305258, -131.63379581,  -96.08453905,  -60.53528229,\n",
       "         -24.98602552,   10.56323124,   46.112488  ,   81.66174477,\n",
       "         117.21100153,  152.76025829,  188.30951506]),\n",
       " <BarContainer object of 10 artists>)"
      ]
     },
     "execution_count": 25,
     "metadata": {},
     "output_type": "execute_result"
    },
    {
     "data": {
      "image/png": "[encoded data removed]",
      "text/plain": [
       "<Figure size 640x480 with 1 Axes>"
      ]
     },
     "metadata": {},
     "output_type": "display_data"
    }
   ],
   "source": []
  },
  {
   "cell_type": "code",
   "execution_count": 9,
   "metadata": {},
   "outputs": [
    {
     "data": {
      "text/plain": [
       "(array([1.0e+00, 0.0e+00, 0.0e+00, 0.0e+00, 0.0e+00, 0.0e+00, 0.0e+00,\n",
       "        0.0e+00, 0.0e+00, 0.0e+00, 0.0e+00, 0.0e+00, 1.0e+00, 1.0e+00,\n",
       "        5.0e+00, 6.7e+01, 9.9e+03, 1.8e+01, 0.0e+00, 1.0e+00, 2.0e+00,\n",
       "        1.0e+00, 1.0e+00, 0.0e+00, 1.0e+00]),\n",
       " array([-9791.67862174, -9189.49128594, -8587.30395013, -7985.11661433,\n",
       "        -7382.92927852, -6780.74194272, -6178.55460691, -5576.36727111,\n",
       "        -4974.1799353 , -4371.99259949, -3769.80526369, -3167.61792788,\n",
       "        -2565.43059208, -1963.24325627, -1361.05592047,  -758.86858466,\n",
       "         -156.68124885,   445.50608695,  1047.69342276,  1649.88075856,\n",
       "         2252.06809437,  2854.25543017,  3456.44276598,  4058.63010178,\n",
       "         4660.81743759,  5263.0047734 ]),\n",
       " <BarContainer object of 25 artists>)"
      ]
     },
     "execution_count": 9,
     "metadata": {},
     "output_type": "execute_result"
    },
    {
     "data": {
      "image/png": "[encoded data removed]",
      "text/plain": [
       "<Figure size 640x480 with 1 Axes>"
      ]
     },
     "metadata": {},
     "output_type": "display_data"
    }
   ],
   "source": [
    "plt.hist(prior_predict[~np.isinf(prior_predict)], bins=25)"
   ]
  }
 ],
 "metadata": {
  "kernelspec": {
   "display_name": "uvmbayes",
   "language": "python",
   "name": "python3"
  },
  "language_info": {
   "codemirror_mode": {
    "name": "ipython",
    "version": 3
   },
   "file_extension": ".py",
   "mimetype": "text/x-python",
   "name": "python",
   "nbconvert_exporter": "python",
   "pygments_lexer": "ipython3",
   "version": "3.12.4"
  }
 },
 "nbformat": 4,
 "nbformat_minor": 2
}
