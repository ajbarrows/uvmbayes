{
 "cells": [
  {
   "cell_type": "code",
   "execution_count": 42,
   "metadata": {},
   "outputs": [],
   "source": [
    "import pandas as pd\n",
    "import numpy as np\n",
    "\n",
    "import matplotlib.pyplot as plt\n",
    "import seaborn as sns\n",
    "\n",
    "from datetime import datetime\n",
    "from libcomcat.search import search\n",
    "from libcomcat.dataframes import get_summary_data_frame"
   ]
  },
  {
   "cell_type": "markdown",
   "metadata": {},
   "source": [
    "## 1"
   ]
  },
  {
   "cell_type": "markdown",
   "metadata": {},
   "source": [
    "### 1.1"
   ]
  },
  {
   "cell_type": "code",
   "execution_count": 46,
   "metadata": {},
   "outputs": [
    {
     "data": {
      "text/plain": [
       "694"
      ]
     },
     "execution_count": 46,
     "metadata": {},
     "output_type": "execute_result"
    }
   ],
   "source": [
    "def get_earthquakes(starttime=datetime(1974, 1, 1),\n",
    "                    endtime=datetime(2023, 12, 31),\n",
    "                    minmagnitude=7.0) -> pd.DataFrame:\n",
    "    \"\"\"Query US Geological Survey Earthquakes Hazard Program API.\n",
    "\n",
    "    Args:\n",
    "        starttime (datetime, optional): Defaults to datetime(1974, 1, 1).\n",
    "        endtime (datetime, optional): Defaults to datetime(2023, 12, 31).\n",
    "        minmagnitude (float, optional): Defaults to 7.0.\n",
    "\n",
    "    Returns:\n",
    "        list: summary dataframe of earthquake summary objects.\n",
    "    \"\"\"\n",
    "    \n",
    "    summaries = search(\n",
    "        starttime=starttime,\n",
    "        endtime=endtime,\n",
    "        minmagnitude=minmagnitude\n",
    "    )\n",
    "    return  get_summary_data_frame(summaries)\n",
    "\n",
    "quakes = get_earthquakes()\n",
    "len(quakes)"
   ]
  },
  {
   "cell_type": "code",
   "execution_count": 54,
   "metadata": {},
   "outputs": [],
   "source": [
    "def get_annual_counts(df: pd.DataFrame) -> pd.DataFrame:\n",
    "    return df.groupby(df['time'].dt.year).count()\n",
    "\n",
    "quake_counts = get_annual_counts(quakes)"
   ]
  },
  {
   "cell_type": "code",
   "execution_count": 49,
   "metadata": {},
   "outputs": [
    {
     "name": "stdout",
     "output_type": "stream",
     "text": [
      "<class 'pandas.core.frame.DataFrame'>\n",
      "RangeIndex: 694 entries, 0 to 693\n",
      "Data columns (total 11 columns):\n",
      " #   Column        Non-Null Count  Dtype              \n",
      "---  ------        --------------  -----              \n",
      " 0   id            694 non-null    object             \n",
      " 1   time          694 non-null    datetime64[ns, UTC]\n",
      " 2   location      694 non-null    object             \n",
      " 3   latitude      694 non-null    float64            \n",
      " 4   longitude     694 non-null    float64            \n",
      " 5   depth         694 non-null    float64            \n",
      " 6   magnitude     694 non-null    float64            \n",
      " 7   alert         160 non-null    object             \n",
      " 8   url           694 non-null    object             \n",
      " 9   eventtype     694 non-null    object             \n",
      " 10  significance  694 non-null    int64              \n",
      "dtypes: datetime64[ns, UTC](1), float64(4), int64(1), object(5)\n",
      "memory usage: 59.8+ KB\n"
     ]
    }
   ],
   "source": []
  }
 ],
 "metadata": {
  "kernelspec": {
   "display_name": "uvmbayes",
   "language": "python",
   "name": "python3"
  },
  "language_info": {
   "codemirror_mode": {
    "name": "ipython",
    "version": 3
   },
   "file_extension": ".py",
   "mimetype": "text/x-python",
   "name": "python",
   "nbconvert_exporter": "python",
   "pygments_lexer": "ipython3",
   "version": "3.12.4"
  }
 },
 "nbformat": 4,
 "nbformat_minor": 2
}
