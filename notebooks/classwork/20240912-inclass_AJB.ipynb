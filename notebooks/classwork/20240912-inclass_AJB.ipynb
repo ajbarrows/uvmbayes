{
 "cells": [
  {
   "cell_type": "code",
   "execution_count": 10,
   "metadata": {},
   "outputs": [],
   "source": [
    "import numpy as np\n",
    "import pandas as pd\n",
    "import matplotlib.pyplot as plt\n",
    "\n",
    "import scipy.stats as sps\n",
    "import scipy.optimize"
   ]
  },
  {
   "cell_type": "markdown",
   "metadata": {},
   "source": [
    "Posterior\n",
    "\n",
    "$$P(\\rho|X) = \\frac{P(X|\\rho) P(\\rho)}{P(X)}$$\n",
    "\n",
    "$$X_i \\sim \\text{Bernoulli}(\\rho)$$\n",
    "\n",
    "$$\\rho \\sim \\text{Beta}(a, b)$$\n",
    "\n",
    "$$\\log P(\\rho|X)$$"
   ]
  },
  {
   "cell_type": "code",
   "execution_count": 2,
   "metadata": {},
   "outputs": [],
   "source": [
    "X = [1, 1, 1, 1, 1, 0, 1, 1, 0]\n",
    "rho = np.linspace(0, 1, 101)"
   ]
  },
  {
   "cell_type": "code",
   "execution_count": 23,
   "metadata": {},
   "outputs": [],
   "source": [
    "def log_posterior(rho:float, X:list, a=2, b=2):\n",
    "    \"\"\"Evaluate log-posterior from data and parameters\"\"\"\n",
    "\n",
    "    if rho < 0 or rho > 1:\n",
    "        return np.inf\n",
    "\n",
    "    log_x_rho = sps.bernoulli(rho).logpmf(X) # x is discrete; this is the likelihood\n",
    "    log_x_rho = np.sum(log_x_rho) # need to sum over likelihoods (Bernoulli(rho) for a specific Xi)\n",
    "    log_rho = sps.beta(a, b).logpdf(rho) # rho is continuous; beta distribution is the prior\n",
    "\n",
    "    return log_x_rho + log_rho \n",
    "\n",
    "# log_posterior(rho=0.4, X=X)\n"
   ]
  },
  {
   "cell_type": "code",
   "execution_count": 29,
   "metadata": {},
   "outputs": [
    {
     "name": "stdout",
     "output_type": "stream",
     "text": [
      "6.05284616987697\n",
      "5.840260705180739\n",
      "5.732916390151833\n",
      "4.679410913407988\n",
      "28.020772343615853\n",
      "4.741163391179019\n",
      "5.4710616168411725\n",
      "5.007891638373733\n",
      "33.27958209343032\n",
      "5.021113138577244\n"
     ]
    },
    {
     "name": "stderr",
     "output_type": "stream",
     "text": [
      "/Users/tony/miniforge3/envs/uvmbayes/lib/python3.12/site-packages/scipy/optimize/_numdiff.py:592: RuntimeWarning: invalid value encountered in subtract\n",
      "  df = fun(x1) - f0\n",
      "/Users/tony/miniforge3/envs/uvmbayes/lib/python3.12/site-packages/scipy/optimize/_numdiff.py:592: RuntimeWarning: invalid value encountered in subtract\n",
      "  df = fun(x1) - f0\n",
      "/Users/tony/miniforge3/envs/uvmbayes/lib/python3.12/site-packages/scipy/optimize/_numdiff.py:592: RuntimeWarning: invalid value encountered in subtract\n",
      "  df = fun(x1) - f0\n",
      "/Users/tony/miniforge3/envs/uvmbayes/lib/python3.12/site-packages/scipy/optimize/_numdiff.py:592: RuntimeWarning: invalid value encountered in subtract\n",
      "  df = fun(x1) - f0\n",
      "/Users/tony/miniforge3/envs/uvmbayes/lib/python3.12/site-packages/scipy/optimize/_numdiff.py:592: RuntimeWarning: invalid value encountered in subtract\n",
      "  df = fun(x1) - f0\n",
      "/Users/tony/miniforge3/envs/uvmbayes/lib/python3.12/site-packages/scipy/optimize/_numdiff.py:592: RuntimeWarning: invalid value encountered in subtract\n",
      "  df = fun(x1) - f0\n",
      "/Users/tony/miniforge3/envs/uvmbayes/lib/python3.12/site-packages/scipy/optimize/_numdiff.py:592: RuntimeWarning: invalid value encountered in subtract\n",
      "  df = fun(x1) - f0\n",
      "/Users/tony/miniforge3/envs/uvmbayes/lib/python3.12/site-packages/scipy/optimize/_numdiff.py:592: RuntimeWarning: invalid value encountered in subtract\n",
      "  df = fun(x1) - f0\n",
      "/Users/tony/miniforge3/envs/uvmbayes/lib/python3.12/site-packages/scipy/optimize/_numdiff.py:592: RuntimeWarning: invalid value encountered in subtract\n",
      "  df = fun(x1) - f0\n",
      "/Users/tony/miniforge3/envs/uvmbayes/lib/python3.12/site-packages/scipy/optimize/_numdiff.py:592: RuntimeWarning: invalid value encountered in subtract\n",
      "  df = fun(x1) - f0\n",
      "/Users/tony/miniforge3/envs/uvmbayes/lib/python3.12/site-packages/scipy/optimize/_numdiff.py:592: RuntimeWarning: invalid value encountered in subtract\n",
      "  df = fun(x1) - f0\n",
      "/Users/tony/miniforge3/envs/uvmbayes/lib/python3.12/site-packages/scipy/optimize/_numdiff.py:592: RuntimeWarning: invalid value encountered in subtract\n",
      "  df = fun(x1) - f0\n",
      "/Users/tony/miniforge3/envs/uvmbayes/lib/python3.12/site-packages/scipy/optimize/_numdiff.py:592: RuntimeWarning: invalid value encountered in subtract\n",
      "  df = fun(x1) - f0\n",
      "/Users/tony/miniforge3/envs/uvmbayes/lib/python3.12/site-packages/scipy/optimize/_numdiff.py:592: RuntimeWarning: invalid value encountered in subtract\n",
      "  df = fun(x1) - f0\n",
      "/Users/tony/miniforge3/envs/uvmbayes/lib/python3.12/site-packages/scipy/optimize/_numdiff.py:592: RuntimeWarning: invalid value encountered in subtract\n",
      "  df = fun(x1) - f0\n",
      "/Users/tony/miniforge3/envs/uvmbayes/lib/python3.12/site-packages/scipy/optimize/_numdiff.py:592: RuntimeWarning: invalid value encountered in subtract\n",
      "  df = fun(x1) - f0\n",
      "/Users/tony/miniforge3/envs/uvmbayes/lib/python3.12/site-packages/scipy/optimize/_numdiff.py:592: RuntimeWarning: invalid value encountered in subtract\n",
      "  df = fun(x1) - f0\n",
      "/Users/tony/miniforge3/envs/uvmbayes/lib/python3.12/site-packages/scipy/optimize/_numdiff.py:592: RuntimeWarning: invalid value encountered in subtract\n",
      "  df = fun(x1) - f0\n",
      "/Users/tony/miniforge3/envs/uvmbayes/lib/python3.12/site-packages/scipy/optimize/_numdiff.py:592: RuntimeWarning: invalid value encountered in subtract\n",
      "  df = fun(x1) - f0\n",
      "/Users/tony/miniforge3/envs/uvmbayes/lib/python3.12/site-packages/scipy/optimize/_numdiff.py:592: RuntimeWarning: invalid value encountered in subtract\n",
      "  df = fun(x1) - f0\n"
     ]
    }
   ],
   "source": [
    "num_trials = 10\n",
    "best_minimum = float('inf')\n",
    "for _ in range(num_trials):\n",
    "    rho0 = sps.beta(a=2, b=2).rvs()\n",
    "    results = scipy.optimize.minimize(lambda rho: -log_posterior(rho, X), rho0)\n",
    "    print(results['fun'])\n",
    "    if results['fun'] < best_minimum:\n",
    "        best_result = results\n",
    "        best_minimum = results['fun']\n",
    "        "
   ]
  },
  {
   "cell_type": "code",
   "execution_count": 39,
   "metadata": {},
   "outputs": [
    {
     "data": {
      "text/plain": [
       "<matplotlib.lines.Line2D at 0x11e19d5e0>"
      ]
     },
     "execution_count": 39,
     "metadata": {},
     "output_type": "execute_result"
    },
    {
     "data": {
      "image/png": "[encoded data removed]",
      "text/plain": [
       "<Figure size 640x480 with 1 Axes>"
      ]
     },
     "metadata": {},
     "output_type": "display_data"
    }
   ],
   "source": [
    "plt.plot(rho, [log_posterior(r, X) for r in rho])\n",
    "plt.axvline(best_result['x'], linestyle='--')"
   ]
  },
  {
   "cell_type": "markdown",
   "metadata": {},
   "source": [
    "## Posterior means"
   ]
  },
  {
   "cell_type": "markdown",
   "metadata": {},
   "source": [
    "$$\\mathbb{E}\\rho = \\frac{\\sum_iX_i+a}{(N + a + b)}$$"
   ]
  },
  {
   "cell_type": "code",
   "execution_count": 40,
   "metadata": {},
   "outputs": [],
   "source": [
    "t_space = np.linspace(0, 1)\n",
    "\n",
    "def posterior_mean(a, b, X):\n",
    "    return (np.sum(X) + a) / (len(X) + a + b)\n",
    "\n",
    "def posterior_second_moment(a, b, X):\n",
    "    return sps.beta(np.sum(X) + a, len(X) - sum(X) + b).var() + posterior_mean(X) ** 2"
   ]
  },
  {
   "cell_type": "code",
   "execution_count": 42,
   "metadata": {},
   "outputs": [
    {
     "ename": "TypeError",
     "evalue": "posterior_mean() missing 2 required positional arguments: 'b' and 'X'",
     "output_type": "error",
     "traceback": [
      "\u001b[0;31m---------------------------------------------------------------------------\u001b[0m",
      "\u001b[0;31mTypeError\u001b[0m                                 Traceback (most recent call last)",
      "Cell \u001b[0;32mIn[42], line 1\u001b[0m\n\u001b[0;32m----> 1\u001b[0m plt\u001b[38;5;241m.\u001b[39mplot(t_space, \u001b[43mposterior_second_moment\u001b[49m\u001b[43m(\u001b[49m\u001b[38;5;241;43m1\u001b[39;49m\u001b[43m,\u001b[49m\u001b[43m \u001b[49m\u001b[38;5;241;43m1\u001b[39;49m\u001b[43m,\u001b[49m\u001b[43m \u001b[49m\u001b[43mX\u001b[49m\u001b[43m)\u001b[49m)\n",
      "Cell \u001b[0;32mIn[40], line 7\u001b[0m, in \u001b[0;36mposterior_second_moment\u001b[0;34m(a, b, X)\u001b[0m\n\u001b[1;32m      6\u001b[0m \u001b[38;5;28;01mdef\u001b[39;00m \u001b[38;5;21mposterior_second_moment\u001b[39m(a, b, X):\n\u001b[0;32m----> 7\u001b[0m     \u001b[38;5;28;01mreturn\u001b[39;00m sps\u001b[38;5;241m.\u001b[39mbeta(np\u001b[38;5;241m.\u001b[39msum(X) \u001b[38;5;241m+\u001b[39m a, \u001b[38;5;28mlen\u001b[39m(X) \u001b[38;5;241m-\u001b[39m \u001b[38;5;28msum\u001b[39m(X) \u001b[38;5;241m+\u001b[39m b)\u001b[38;5;241m.\u001b[39mvar() \u001b[38;5;241m+\u001b[39m \u001b[43mposterior_mean\u001b[49m\u001b[43m(\u001b[49m\u001b[43mX\u001b[49m\u001b[43m)\u001b[49m \u001b[38;5;241m*\u001b[39m\u001b[38;5;241m*\u001b[39m \u001b[38;5;241m2\u001b[39m\n",
      "\u001b[0;31mTypeError\u001b[0m: posterior_mean() missing 2 required positional arguments: 'b' and 'X'"
     ]
    }
   ],
   "source": [
    "# plt.plot(t_space, posterior_second_moment(1, 1, X))"
   ]
  }
 ],
 "metadata": {
  "kernelspec": {
   "display_name": "uvmbayes",
   "language": "python",
   "name": "python3"
  },
  "language_info": {
   "codemirror_mode": {
    "name": "ipython",
    "version": 3
   },
   "file_extension": ".py",
   "mimetype": "text/x-python",
   "name": "python",
   "nbconvert_exporter": "python",
   "pygments_lexer": "ipython3",
   "version": "3.12.4"
  }
 },
 "nbformat": 4,
 "nbformat_minor": 2
}
